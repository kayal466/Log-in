{
  "nbformat": 4,
  "nbformat_minor": 0,
  "metadata": {
    "colab": {
      "provenance": [],
      "authorship_tag": "ABX9TyPqFKhh7F40ldHa8Ibwc8x4",
      "include_colab_link": true
    },
    "kernelspec": {
      "name": "python3",
      "display_name": "Python 3"
    },
    "language_info": {
      "name": "python"
    }
  },
  "cells": [
    {
      "cell_type": "markdown",
      "metadata": {
        "id": "view-in-github",
        "colab_type": "text"
      },
      "source": [
        "<a href=\"https://colab.research.google.com/github/kayal466/Log-in/blob/main/LOG_IN.ipynb\" target=\"_parent\"><img src=\"https://colab.research.google.com/assets/colab-badge.svg\" alt=\"Open In Colab\"/></a>"
      ]
    },
    {
      "cell_type": "code",
      "execution_count": null,
      "metadata": {
        "id": "CUJW46dWIOGz"
      },
      "outputs": [],
      "source": [
        "Register = createUser( \"EMAIL\", \"PASSWORD)\n",
        "person = inputUser(\"EMAIL ENTRY PROMPT\", \"PASSWORD ENTRY PROMPT\")\n",
        "Users()\n",
        "userExists(\"EMAIL\", \"PASSWORD\")\n",
        "validateUser(UserObject, \"PASSWORD\")\n",
        "EMAIL = str(input(\"Enter Your Email associated with Gmail: \"))\n",
        "if\"@gmail.com\" in EMAIL:print(\"email is perfect\")\n",
        "else: EMAIL=input(\"reenter your mail\")\n",
        "password = str(input(\"Enter Your Password : \"))\n",
        "  if len(password)==16 and ('*'+'@'+'$') and(\"A-Z\",\"a-z\"):\n",
        "    print('register')\n",
        "  else:\n",
        "    print('change your password')\n",
        "  \n",
        "  if userExists(email, password):\n",
        "      print(\"Welcome!\")\n",
        "  else:\n",
        "      print(\" Invalid Credentials!\")\n"
      ]
    },
    {
      "cell_type": "code",
      "source": [
        "user = inputUser(\"Enter Your Email : \", \"Enter Your Intended Password : \")\n",
        "user = createUser(\"EMAIL\",\"PASSWORD\")\n",
        "  \n",
        "  if validateUser(user):\n",
        "      print(\"lOGIN SUCCESS\")\n",
        "  else:\n",
        "      print(\"LOGIN FAILED\")\n"
      ],
      "metadata": {
        "id": "vFOceBVqJ5Dq"
      },
      "execution_count": null,
      "outputs": []
    }
  ]
}